{
 "cells": [
  {
   "cell_type": "markdown",
   "metadata": {},
   "source": [
    "This notebook seeks to replicate some of the results in this paper by Duchin and others:\n",
    "\n",
    "<b>Moon Duchin et al. “Locating the representational baseline: Republicans in Massachusetts”. In: (Oct.2018).</b>\n",
    "\n",
    "They focused on the state of Massachusetts and I want to see how their methods work on the state of Oregon."
   ]
  },
  {
   "cell_type": "markdown",
   "metadata": {},
   "source": [
    "This notebook is organized into sections.."
   ]
  },
  {
   "cell_type": "markdown",
   "metadata": {},
   "source": [
    "## Oregon Data\n",
    "\n",
    "Here are the citations for the main datasets I used:\n",
    "\n",
    "<b>MIT Election Data and Science Lab.U.S. President Precinct-Level Returns 2016. Version V11.2018.doi:10.7910/DVN/LYWX3D.url:https://doi.org/10.7910/DVN/LYWX3D.</b>\n",
    "\n",
    "<b>MIT  Election  Data  and  Science  Lab.U.S.  Senate  Precinct-Level  Returns 2016.  Ver-sion V11.2018.doi:10.7910/DVN/NLTQAD.url:https://doi.org/10.7910/DVN/NLTQAD.</b>\n",
    "\n",
    "Note that these datasets are very large and that is why they are not included in this repository."
   ]
  },
  {
   "cell_type": "markdown",
   "metadata": {},
   "source": [
    "### Section 1: Extracting Only the Data we Need"
   ]
  },
  {
   "cell_type": "code",
   "execution_count": 1,
   "metadata": {
    "collapsed": true
   },
   "outputs": [],
   "source": [
    "# pandas for working with csv files\n",
    "import pandas as pd"
   ]
  },
  {
   "cell_type": "code",
   "execution_count": 2,
   "metadata": {
    "collapsed": true
   },
   "outputs": [],
   "source": [
    "# Location of the dataset on your machine, downloaded from the sources above\n",
    "file_path_2016Pres = \"C:/Users/Keith/Desktop/Election Data/2016-precinct-president.csv\"\n",
    "file_path_2016Sen  = \"C:/Users/Keith/Desktop/Election Data/2016-precinct-senate.csv\""
   ]
  },
  {
   "cell_type": "code",
   "execution_count": 3,
   "metadata": {
    "collapsed": true
   },
   "outputs": [],
   "source": [
    "# These are the original datasets downloaded from the sources above\n",
    "df_2016Pres_original = pd.read_csv(file_path_2016Pres, encoding = \"ISO-8859-1\", low_memory=False)\n",
    "df_2016Sen_original = pd.read_csv(file_path_2016Sen, encoding = \"ISO-8859-1\", low_memory=False)\n",
    "\n",
    "# Dropping columns that we won't need\n",
    "df_2016Pres = df_2016Pres_original.drop(columns = [\"state_fips\", \"state_icpsr\", \"county_fips\", \"county_ansi\", \"candidate_opensecrets\", \"candidate_wikidata\",\n",
    "                  \"candidate_party\", \"candidate_last\", \"candidate_first\", \"candidate_middle\", \"candidate_full\",\n",
    "                  \"candidate_suffix\", \"candidate_nickname\", \"candidate_fec\", \"candidate_fec_name\", \"candidate_google\",\n",
    "                  \"candidate_govtrack\", \"candidate_icpsr\", \"candidate_maplight\", \"writein\", \"county_lat\", \"county_long\",\n",
    "                       \"candidate\"], axis = 1)\n",
    "df_2016Sen = df_2016Sen_original.drop(columns = [\"state_fips\", \"state_icpsr\", \"county_fips\", \"county_ansi\", \"candidate_opensecrets\", \"candidate_wikidata\",\n",
    "                  \"candidate_party\", \"candidate_last\", \"candidate_first\", \"candidate_middle\", \"candidate_full\",\n",
    "                  \"candidate_suffix\", \"candidate_nickname\", \"candidate_fec\", \"candidate_fec_name\", \"candidate_google\",\n",
    "                  \"candidate_govtrack\", \"candidate_icpsr\", \"candidate_maplight\", \"writein\", \"county_lat\", \"county_long\",\n",
    "                       \"candidate\"], axis = 1)\n",
    "\n",
    "# Pulling out only Oregon data\n",
    "ore_2016Pres = df_2016Pres.loc[df_2016Pres[\"state\"] == \"Oregon\"]\n",
    "ore_2016Sen  = df_2016Sen.loc[df_2016Sen[\"state\"] == \"Oregon\"]"
   ]
  },
  {
   "cell_type": "markdown",
   "metadata": {},
   "source": [
    "In the paper by Duchin and others cited above the authors provide a link to the GitHub repository with the code they used for the analyses. Here is a citation for that repository:\n",
    "\n",
    "<b>Metric Geometry and Gerrymandering Group, Massachusetts election data repository,\n",
    "https://github.com/gerrymandr/Massachusetts_underperformance.</b>"
   ]
  },
  {
   "cell_type": "markdown",
   "metadata": {},
   "source": [
    "The code in this cell (below) takes the data from MIT Election and Data Science Lab and extracts the information necesary to replicate the results of Duchin and others."
   ]
  },
  {
   "cell_type": "code",
   "execution_count": 37,
   "metadata": {},
   "outputs": [],
   "source": [
    "def extract_important_data(df):\n",
    "    precincts = []\n",
    "    rVotes = []\n",
    "    dVotes = []\n",
    "    totalVotes = []\n",
    "\n",
    "    # Loop through each precinct in the DataFrame\n",
    "    for precinct in set(df[\"precinct\"].values):\n",
    "        # Extracting the data associated with this precinct only\n",
    "        dfPrecinct = df.loc[df[\"precinct\"] == precinct]\n",
    "\n",
    "        # Saving the information we will need later\n",
    "        precincts.append(precinct)\n",
    "        rVotes.append(sum(dfPrecinct.loc[dfPrecinct[\"party\"] == \"republican\"][\"votes\"].values))\n",
    "        dVotes.append(sum(dfPrecinct.loc[dfPrecinct[\"party\"] == \"democrat\"][\"votes\"].values))\n",
    "        totalVotes.append(sum(dfPrecinct[\"votes\"].values))\n",
    "\n",
    "    # Check to make sure the lenghts aren't off before creating the new DataFrame\n",
    "    print(len(precincts) == len(rVotes) == len(dVotes) == len(totalVotes))\n",
    "\n",
    "    # Creating a new DataFrame with this information we have extracted\n",
    "    df_cleaned = pd.DataFrame({\"Precinct\": precincts, \"Republican_Votes\": rVotes, \"Democrat_Votes\": dVotes, \"Total_Votes\": totalVotes})\n",
    "\n",
    "    return df_cleaned"
   ]
  },
  {
   "cell_type": "code",
   "execution_count": 43,
   "metadata": {},
   "outputs": [
    {
     "name": "stdout",
     "output_type": "stream",
     "text": [
      "True\n"
     ]
    }
   ],
   "source": [
    "orePres16 = extract_important_data(ore_2016Pres)"
   ]
  },
  {
   "cell_type": "code",
   "execution_count": 44,
   "metadata": {},
   "outputs": [
    {
     "name": "stdout",
     "output_type": "stream",
     "text": [
      "True\n"
     ]
    }
   ],
   "source": [
    "oreSen16 = extract_important_data(ore_2016Sen)"
   ]
  },
  {
   "cell_type": "markdown",
   "metadata": {},
   "source": [
    "Uncomment this cell below to save this DataFrame to a `csv` in your current working directory."
   ]
  },
  {
   "cell_type": "code",
   "execution_count": 45,
   "metadata": {},
   "outputs": [],
   "source": [
    "# orePres16.to_csv(\"orePres16.csv\")\n",
    "# oreSen16.to_csv(\"oreSen16.csv\")"
   ]
  },
  {
   "cell_type": "markdown",
   "metadata": {},
   "source": [
    "### Section 2: Is there a \"Portland Effect\"?"
   ]
  },
  {
   "cell_type": "markdown",
   "metadata": {},
   "source": [
    "As Duchin and others did with Boston, we want to see if the precinct level Republican two-way vote share (Democrats being the other party) in Portland is reliably lower than the average for precincts in the state of Oregon."
   ]
  },
  {
   "cell_type": "markdown",
   "metadata": {},
   "source": [
    "Note that I did not find an way to decipher which precincts are specifically within Portland city limits so I just look at Multnomah county as a whole."
   ]
  },
  {
   "cell_type": "code",
   "execution_count": 6,
   "metadata": {
    "collapsed": true
   },
   "outputs": [],
   "source": [
    "# Extracting data relating only to Multnomah County\n",
    "multnomah_county_2016Pres = ore_2016Pres.loc[ore_2016Pres[\"county_name\"] == 'Multnomah County']\n",
    "multnomah_county_2016Sen  = ore_2016Sen.loc[ore_2016Sen[\"county_name\"] == 'Multnomah County']\n",
    "\n",
    "# Precincts that make up Multnomah County\n",
    "multnomah_county_precincts_2016Pres = set(multnomah_county_2016Pres[\"precinct\"].values)\n",
    "multnomah_county_precincts_2016Sen = set(multnomah_county_2016Sen[\"precinct\"].values)"
   ]
  },
  {
   "cell_type": "code",
   "execution_count": 7,
   "metadata": {},
   "outputs": [
    {
     "data": {
      "text/plain": [
       "True"
      ]
     },
     "execution_count": 7,
     "metadata": {},
     "output_type": "execute_result"
    }
   ],
   "source": [
    "# Quick check to make sure there are no difference in precincts\n",
    "multnomah_county_precincts_2016Pres == multnomah_county_precincts_2016Sen"
   ]
  },
  {
   "cell_type": "code",
   "execution_count": 31,
   "metadata": {
    "collapsed": true
   },
   "outputs": [],
   "source": [
    "def mean_share_precinct_republican_state(state, feedback = False):\n",
    "    \"\"\"Calculates and returns the mean precinct level Republican two-way vote share\n",
    "    with respect to an entire state.\n",
    "\n",
    "    Keyword arguments:\n",
    "    state -- DataFrame with data pertaining to some single state\n",
    "    feedback -- boolean indicating weather or not you want to print feedback (default False)\n",
    "    \"\"\"\n",
    "    \n",
    "    republican_state = state.loc[state[\"party\"] == \"republican\"]\n",
    "    precincts = set(republican_state[\"precinct\"].values)\n",
    "    rep_vote_shares = []\n",
    "    \n",
    "    for precinct in precincts:\n",
    "        total_votes = sum((state.loc[state[\"precinct\"] == precinct])[\"votes\"].values)\n",
    "        rep_votes = sum((republican_state.loc[republican_state[\"precinct\"] == precinct])[\"votes\"].values)\n",
    "        \n",
    "        try:\n",
    "            rep_vote_shares.append(int(rep_votes) / int(total_votes))\n",
    "        except ZeroDivisionError:\n",
    "            if feedback:\n",
    "                print(\"Precinct: {} \\t\\t Total Votes: {}\\t Republican Votes: {}\".format(precinct, total_votes, rep_votes))\n",
    "        \n",
    "    return (sum(rep_vote_shares) / len(rep_vote_shares))\n",
    "\n",
    "def mean_share_precinct_republican_county(county, feedback = False):\n",
    "    \"\"\"Calculates and returns the mean precinct level Republican two-way vote share\n",
    "    with respect to an entire county.\n",
    "\n",
    "    Keyword arguments:\n",
    "    county -- DataFrame with data pertaining to some single county\n",
    "    feedback -- boolean indicating weather or not you want to print feedback (default False)\n",
    "    \"\"\"\n",
    "    \n",
    "    republican_county = county.loc[county[\"party\"] == \"republican\"]\n",
    "    precincts = set(county[\"precinct\"].values)\n",
    "    rep_vote_shares = []\n",
    "    \n",
    "    for precinct in precincts:\n",
    "        total_votes = sum((county.loc[county[\"precinct\"] == precinct])[\"votes\"].values)\n",
    "        rep_votes = sum((republican_county.loc[republican_county[\"precinct\"] == precinct])[\"votes\"].values)\n",
    "        \n",
    "        try:\n",
    "            rep_vote_shares.append(int(rep_votes) / int(total_votes))\n",
    "        except ZeroDivisionError:\n",
    "            if feedback:\n",
    "                print(\"Precinct: {} \\t\\t Total Votes: {}\\t Republican Votes: {}\".format(precinct, total_votes, rep_votes))\n",
    "        \n",
    "    return (sum(rep_vote_shares) / len(rep_vote_shares))\n",
    "\n",
    "def rep_state_share(state):\n",
    "    \"\"\"Calculates and returns the mean state wide Republican two-way vote share.\n",
    "\n",
    "    Keyword arguments:\n",
    "    state -- DataFrame with data pertaining to some single state\n",
    "    \"\"\"\n",
    "    republican_state = state.loc[state[\"party\"] == \"republican\"]\n",
    "    \n",
    "    return sum(republican_state[\"votes\"].values) / sum(state[\"votes\"].values)\n",
    "\n",
    "def mean_population_info(unit, precincts):\n",
    "    \"\"\"Calculates and returns a String with information about the total voting population\n",
    "    of the given given geographical unit and the average number of voters per precinct.\n",
    "\n",
    "    Keyword arguments:\n",
    "    unit -- DataFrame with data pertaining to some single geographical unit\n",
    "    precincts -- list of precincts\n",
    "    \"\"\"\n",
    "    populations = []\n",
    "\n",
    "    for precinct in precincts:\n",
    "        populations.append(sum((unit.loc[unit[\"precinct\"] == precinct])[\"votes\"].values))\n",
    "\n",
    "    return(\"Total (Voting) Population: {}\\tAverage Population per Precinct: {}\".format(sum(populations), sum(populations) / len(populations)))"
   ]
  },
  {
   "cell_type": "markdown",
   "metadata": {},
   "source": [
    "#### Portland Effect: 2016 Presidential Election"
   ]
  },
  {
   "cell_type": "code",
   "execution_count": 9,
   "metadata": {},
   "outputs": [
    {
     "data": {
      "text/plain": [
       "0.42679386818679305"
      ]
     },
     "execution_count": 9,
     "metadata": {},
     "output_type": "execute_result"
    }
   ],
   "source": [
    "mean_share_precinct_republican_state(ore_2016Pres)"
   ]
  },
  {
   "cell_type": "code",
   "execution_count": 10,
   "metadata": {},
   "outputs": [
    {
     "data": {
      "text/plain": [
       "0.22452520034360654"
      ]
     },
     "execution_count": 10,
     "metadata": {},
     "output_type": "execute_result"
    }
   ],
   "source": [
    "mean_share_precinct_republican_county(multnomah_county_2016Pres)"
   ]
  },
  {
   "cell_type": "code",
   "execution_count": 11,
   "metadata": {},
   "outputs": [
    {
     "data": {
      "text/plain": [
       "0.38767353407923505"
      ]
     },
     "execution_count": 11,
     "metadata": {},
     "output_type": "execute_result"
    }
   ],
   "source": [
    "rep_state_share(ore_2016Pres)"
   ]
  },
  {
   "cell_type": "markdown",
   "metadata": {},
   "source": [
    "Precinct Level Population Information"
   ]
  },
  {
   "cell_type": "code",
   "execution_count": 32,
   "metadata": {},
   "outputs": [
    {
     "name": "stdout",
     "output_type": "stream",
     "text": [
      "Total (Voting) Population: 399103\tAverage Population per Precinct: 3531.8849557522126\n"
     ]
    }
   ],
   "source": [
    "print(mean_population_info(multnomah_county_2016Pres, multnomah_county_precincts_2016Pres))"
   ]
  },
  {
   "cell_type": "markdown",
   "metadata": {},
   "source": [
    "State Level Population Information"
   ]
  },
  {
   "cell_type": "code",
   "execution_count": 33,
   "metadata": {},
   "outputs": [
    {
     "name": "stdout",
     "output_type": "stream",
     "text": [
      "Total (Voting) Population: 2001336\tAverage Population per Precinct: 2348.9859154929577\n"
     ]
    }
   ],
   "source": [
    "print(mean_population_info(ore_2016Pres, set(ore_2016Pres[\"precinct\"].values)))"
   ]
  },
  {
   "cell_type": "markdown",
   "metadata": {},
   "source": [
    "#### Portland Effect: 2016 Senate Election"
   ]
  },
  {
   "cell_type": "code",
   "execution_count": 12,
   "metadata": {},
   "outputs": [
    {
     "data": {
      "text/plain": [
       "0.36471269975015114"
      ]
     },
     "execution_count": 12,
     "metadata": {},
     "output_type": "execute_result"
    }
   ],
   "source": [
    "mean_share_precinct_republican_state(ore_2016Sen)"
   ]
  },
  {
   "cell_type": "code",
   "execution_count": 13,
   "metadata": {},
   "outputs": [
    {
     "data": {
      "text/plain": [
       "0.1927538624440809"
      ]
     },
     "execution_count": 13,
     "metadata": {},
     "output_type": "execute_result"
    }
   ],
   "source": [
    "mean_share_precinct_republican_county(multnomah_county_2016Sen)"
   ]
  },
  {
   "cell_type": "code",
   "execution_count": 14,
   "metadata": {},
   "outputs": [
    {
     "data": {
      "text/plain": [
       "0.33347691163583487"
      ]
     },
     "execution_count": 14,
     "metadata": {},
     "output_type": "execute_result"
    }
   ],
   "source": [
    "rep_state_share(ore_2016Sen)"
   ]
  },
  {
   "cell_type": "markdown",
   "metadata": {},
   "source": [
    "Precinct Level Population Information"
   ]
  },
  {
   "cell_type": "code",
   "execution_count": 34,
   "metadata": {},
   "outputs": [
    {
     "name": "stdout",
     "output_type": "stream",
     "text": [
      "Total (Voting) Population: 386684\tAverage Population per Precinct: 3421.9823008849557\n"
     ]
    }
   ],
   "source": [
    "print(mean_population_info(multnomah_county_2016Sen, multnomah_county_precincts_2016Sen))"
   ]
  },
  {
   "cell_type": "markdown",
   "metadata": {},
   "source": [
    "State Level Population Information"
   ]
  },
  {
   "cell_type": "code",
   "execution_count": 35,
   "metadata": {},
   "outputs": [
    {
     "name": "stdout",
     "output_type": "stream",
     "text": [
      "Total (Voting) Population: 1952477\tAverage Population per Precinct: 2291.639671361502\n"
     ]
    }
   ],
   "source": [
    "print(mean_population_info(ore_2016Sen, set(ore_2016Sen[\"precinct\"].values)))"
   ]
  }
 ],
 "metadata": {
  "kernelspec": {
   "display_name": "Python 3",
   "language": "python",
   "name": "python3"
  },
  "language_info": {
   "codemirror_mode": {
    "name": "ipython",
    "version": 3
   },
   "file_extension": ".py",
   "mimetype": "text/x-python",
   "name": "python",
   "nbconvert_exporter": "python",
   "pygments_lexer": "ipython3",
   "version": "3.6.2"
  }
 },
 "nbformat": 4,
 "nbformat_minor": 2
}
